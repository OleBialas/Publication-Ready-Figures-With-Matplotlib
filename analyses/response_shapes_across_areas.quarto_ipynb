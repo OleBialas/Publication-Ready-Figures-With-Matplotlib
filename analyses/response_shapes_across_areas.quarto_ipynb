{
  "cells": [
    {
      "cell_type": "code",
      "metadata": {},
      "source": [
        "from pathlib import Path\n",
        "import sys\n",
        "import os\n",
        "import numpy as np\n",
        "import pandas as pd\n",
        "from matplotlib import pyplot as plt\n",
        "root = Path(os.getcwd()).parent\n",
        "sys.path.append(str(root))\n",
        "from utils import pca\n",
        "window_size = 10\n",
        "factor=2"
      ],
      "id": "07c32c1c",
      "execution_count": null,
      "outputs": []
    },
    {
      "cell_type": "markdown",
      "metadata": {},
      "source": [
        "## Load mean waveforms\n"
      ],
      "id": "c5f7ba1d"
    },
    {
      "cell_type": "code",
      "metadata": {},
      "source": [
        "def get_mean_waveforms():\n",
        "    mw_v1, mw_rl, mw_am = [], [], []\n",
        "    for ses in (root/\"data\").glob(\"ses*\"):\n",
        "        units = pd.read_csv(ses/f\"{ses.name}_units.csv\", index_col=0)\n",
        "        mw = np.load(ses/f\"{ses.name}_mean_waveforms.npy\", allow_pickle=True).item()\n",
        "        units_v1 = units[units.ecephys_structure_acronym==\"VISpm\"]\n",
        "        for uid in units_v1.index:\n",
        "            mw_v1.append(mw[uid])\n",
        "        units_rl = units[units.ecephys_structure_acronym==\"VISrl\"]\n",
        "        for uid in units_rl.index:\n",
        "            mw_rl.append(mw[uid])\n",
        "        units_am = units[units.ecephys_structure_acronym==\"VISam\"]\n",
        "        for uid in units_am.index:\n",
        "            mw_am.append(mw[uid])\n",
        "    times = mw[\"time\"]\n",
        "    mw_v1 = np.stack(mw_v1)\n",
        "    mw_rl = np.stack(mw_rl)\n",
        "    mw_am = np.stack(mw_am)\n",
        "    return time, mw_v1, mw_rl, mw_am"
      ],
      "id": "dfc26327",
      "execution_count": null,
      "outputs": []
    },
    {
      "cell_type": "markdown",
      "metadata": {},
      "source": [
        "## Smooth and downsample\n"
      ],
      "id": "bd6315ce"
    },
    {
      "cell_type": "code",
      "metadata": {},
      "source": [
        "def smooth_and_downsample(X, window_size=window_size, factor=factor):\n",
        "    kernel = np.ones(window_size) / window_size\n",
        "    smoothed = np.apply_along_axis(\n",
        "        lambda x: np.convolve(x, kernel, mode='valid'), \n",
        "        axis=1, \n",
        "        arr=X\n",
        "    )\n",
        "    return smoothed[:, ::factor]"
      ],
      "id": "09b62da7",
      "execution_count": null,
      "outputs": []
    },
    {
      "cell_type": "markdown",
      "metadata": {},
      "source": [
        "## Plot waveforms\n"
      ],
      "id": "9b922b11"
    },
    {
      "cell_type": "code",
      "metadata": {},
      "source": [
        "time, mw_v1, mw_rl, mw_am = get_mean_waveforms()\n",
        "valid_time = time[window_size - 1:]\n",
        "valid_time \n",
        "fig, ax = plt.subplots(3, figsize=(8,12), sharex=True)\n",
        "plt.subplots_adjust(hspace=0)\n",
        "\n",
        "for axes, data, name in zip(ax, [mw_v1, mw_rl, mw_am], [\"V1\", \"RL\", \"AM\"]):\n",
        "    data = smooth_and_downsample(data)\n",
        "    for d in data:\n",
        "        axes.plot(d, linewidth=0.2)"
      ],
      "id": "889f43ac",
      "execution_count": null,
      "outputs": []
    },
    {
      "cell_type": "markdown",
      "metadata": {},
      "source": [
        "## Plot variance explained\n"
      ],
      "id": "8f27d887"
    },
    {
      "cell_type": "code",
      "metadata": {},
      "source": [
        "#| label: plot-function\n",
        "def plot_pca_variance_explained(ax, n_components=None, logscale=True):\n",
        "    mw_v1, mw_rl, mw_am = get_mean_waveforms()\n",
        "    for data, name in zip([mw_v1, mw_rl, mw_am], [\"V1\", \"RL\", \"AM\"]):\n",
        "        data = smooth_and_downsample(data)\n",
        "        variance_explained, components = pca(data, n_components)\n",
        "        if logscale:\n",
        "            ax.semilogy(variance_explained*100, label=name)\n",
        "        else:\n",
        "            ax.plot(variance_explained*100, label=name)\n",
        "    ax.legend()\n",
        "    ax.set(xlabel=\"Component number\", ylabel=\"Variance explained [%]\")"
      ],
      "id": "plot-function",
      "execution_count": null,
      "outputs": []
    },
    {
      "cell_type": "code",
      "metadata": {},
      "source": [
        "fig, ax = plt.subplots()\n",
        "plot_pca_variance_explained(ax, n_components=25, logscale=True)"
      ],
      "id": "76b64526",
      "execution_count": null,
      "outputs": []
    },
    {
      "cell_type": "markdown",
      "metadata": {},
      "source": [
        "## Plot first PC\n"
      ],
      "id": "8e41cc3c"
    },
    {
      "cell_type": "code",
      "metadata": {},
      "source": [
        "def plot_first_pc(ax):\n",
        "    mw_v1, mw_rl, mw_am = get_mean_waveforms()\n",
        "    for data, name in zip([mw_v1, mw_rl, mw_am], [\"V1\", \"RL\", \"AM\"]):\n",
        "        data = smooth_and_downsample(data)\n",
        "        variance_explained, components = pca(data, n_components=1)\n",
        "        first_pc = components[0]**2\n",
        "        first_pc/=first_pc.max()\n",
        "        ax.plot(first_pc, label=name)\n",
        "    ax.legend()"
      ],
      "id": "9c9f115e",
      "execution_count": null,
      "outputs": []
    },
    {
      "cell_type": "code",
      "metadata": {},
      "source": [
        "fig, ax = plt.subplots()\n",
        "plot_first_pc(ax)"
      ],
      "id": "bb625e8b",
      "execution_count": null,
      "outputs": []
    }
  ],
  "metadata": {
    "kernelspec": {
      "name": "python3",
      "language": "python",
      "display_name": "Python 3 (ipykernel)",
      "path": "/home/obi/projects/Publication-Ready-Figures-With-Matplotlib/.venv/share/jupyter/kernels/python3"
    }
  },
  "nbformat": 4,
  "nbformat_minor": 5
}