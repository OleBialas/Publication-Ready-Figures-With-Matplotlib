{
  "cells": [
    {
      "cell_type": "markdown",
      "metadata": {},
      "source": [
        "# Acessing the data\n"
      ]
    },
    {
      "cell_type": "code",
      "metadata": {},
      "source": [
        "import os\n",
        "import sys\n",
        "from pathlib import Path\n",
        "import requests\n",
        "import zipfile\n",
        "import numpy as np\n",
        "import pandas as pd\n",
        "from matplotlib import pyplot as plt"
      ],
      "execution_count": null,
      "outputs": []
    },
    {
      "cell_type": "markdown",
      "metadata": {},
      "source": [
        "## Download data"
      ]
    },
    {
      "cell_type": "code",
      "metadata": {},
      "source": [
        "root = Path(os.getcwd()).parent\n",
        "if not (root/\"data\").exists():\n",
        "    token = \"bIDNCBs37frcli8\"\n",
        "    download_url = f\"https://uni-bonn.sciebo.de/index.php/s/{token}/download\"\n",
        "    response = requests.get(download_url, stream=True)\n",
        "    response.raise_for_status()\n",
        "    with open('download.zip', 'wb') as f:\n",
        "        for chunk in response.iter_content(chunk_size=8192):\n",
        "            if chunk:\n",
        "                f.write(chunk)\n",
        "    with zipfile.ZipFile('download.zip', 'r') as zip_ref:\n",
        "        zip_ref.extractall(root)\n",
        "    os.remove('download.zip')\n",
        "    data_dir = Path(root/\"visual_coding_spiking_data\")\n",
        "    data_dir.rename(root/\"data\")"
      ],
      "execution_count": null,
      "outputs": []
    },
    {
      "cell_type": "markdown",
      "metadata": {},
      "source": [
        "## Data contents\n",
        "\n",
        "The downloaded data can be found in the `/data` folder within the root directory of this repository.\n",
        "Let's list all recording sessions:"
      ]
    },
    {
      "cell_type": "code",
      "metadata": {},
      "source": [
        "sys.path.append(str(root))\n",
        "sessions = (root/\"data\").glob(\"ses*\")\n",
        "for ses in sessions:\n",
        "    print(ses.name)"
      ],
      "execution_count": null,
      "outputs": []
    },
    {
      "cell_type": "markdown",
      "metadata": {},
      "source": [
        "Each session contains four files:\n",
        "\n",
        "- `units.cvs`: Table listing all recorded units and a bunch of metrics\n",
        "- `stimuli.csv`: Table listing all occurrences of the selected stimuli for the session\n",
        "- `spike_times.npy`: The spike times for every unit recorded in that session\n",
        "- `mean_waveforms.npy`: Mean waveform of every unit recorded in that session"
      ]
    },
    {
      "cell_type": "code",
      "metadata": {},
      "source": [
        "ses = root/\"data\"/\"ses_737581020\"\n",
        "for file in ses.glob(\"*\"):\n",
        "    print(file.name)"
      ],
      "execution_count": null,
      "outputs": []
    },
    {
      "cell_type": "markdown",
      "metadata": {},
      "source": [
        "## Example 1: plot mean spike waveforms of V1 neurons\n",
        "\n",
        "To obtain the mean waveforms of neurons in V1, we first have to select the units located in that area.\n",
        "For this, we can load the `units.csv` table and filter it:"
      ]
    },
    {
      "cell_type": "code",
      "metadata": {},
      "source": [
        "units = pd.read_csv(ses/f\"{ses.name}_units.csv\", index_col=0)\n",
        "units = units[units.ecephys_structure_acronym == \"VISpm\"]"
      ],
      "execution_count": null,
      "outputs": []
    },
    {
      "cell_type": "markdown",
      "metadata": {},
      "source": [
        "Now we can load `mean_waveforms.npy` and use the `unit_id` (i.e. the index) of the filtered `units` table to obtain the get the mean waveforms of those units and plot them.\n",
        "Because this is an object array, we have to call `.item()` to retrieve the content."
      ]
    },
    {
      "cell_type": "code",
      "metadata": {},
      "source": [
        "mean_waveforms = np.load(ses/f\"{ses.name}_mean_waveforms.npy\", allow_pickle=True)\n",
        "mean_waveforms = mean_waveforms.item()\n",
        "for uid in units.index:\n",
        "    plt.plot(mean_waveforms[\"time\"], mean_waveforms[uid])\n",
        "plt.show()"
      ],
      "execution_count": null,
      "outputs": []
    },
    {
      "cell_type": "markdown",
      "metadata": {},
      "source": [
        "## Example 2: Plot the PSTH for grating_stimuli in V1\n",
        "\n",
        "The root folder of this repository contains a file called `utils.py` that contains some useful functions for computing spike statistics.\n",
        "We can import the `compute_psth()` function from the `utils` module"
      ]
    },
    {
      "cell_type": "code",
      "metadata": {},
      "source": [
        "from utils import compute_psth"
      ],
      "execution_count": null,
      "outputs": []
    },
    {
      "cell_type": "markdown",
      "metadata": {},
      "source": [
        "Load the table of `stimuli` and select all `static_grating` stimuli"
      ]
    },
    {
      "cell_type": "code",
      "metadata": {},
      "source": [
        "stimuli = pd.read_csv(ses/f\"{ses.name}_stimuli.csv\", index_col=0)\n",
        "stimuli = stimuli[stimuli.stimulus_name==\"static_gratings\"]\n",
        "stim_times = np.asarray(stimuli.start_time)"
      ],
      "execution_count": null,
      "outputs": []
    },
    {
      "cell_type": "markdown",
      "metadata": {},
      "source": [
        "Load the spike times - because it is an object array, we have to call `.item()` to retrieve the content after loading"
      ]
    },
    {
      "cell_type": "code",
      "metadata": {},
      "source": [
        "spike_times = np.load(ses/f\"{ses.name}_spike_times.npy\", allow_pickle=True)\n",
        "spike_times = spike_times.item()\n",
        "spike_times = spike_times[units.index[2]]"
      ],
      "execution_count": null,
      "outputs": []
    },
    {
      "cell_type": "markdown",
      "metadata": {},
      "source": [
        "Compute the PSTH and plot the result"
      ]
    },
    {
      "cell_type": "code",
      "metadata": {},
      "source": [
        "bin_centers, psth = compute_psth(spike_times, stim_times, window=(-0.05, 0.25), bin_width=0.01)\n",
        "plt.plot(bin_centers, psth)"
      ],
      "execution_count": null,
      "outputs": []
    }
  ],
  "metadata": {
    "kernelspec": {
      "name": "python3",
      "language": "python",
      "display_name": "Python 3 (ipykernel)",
      "path": "/home/obi/projects/Publication-Ready-Figures-With-Matplotlib/.venv/share/jupyter/kernels/python3"
    }
  },
  "nbformat": 4,
  "nbformat_minor": 4
}