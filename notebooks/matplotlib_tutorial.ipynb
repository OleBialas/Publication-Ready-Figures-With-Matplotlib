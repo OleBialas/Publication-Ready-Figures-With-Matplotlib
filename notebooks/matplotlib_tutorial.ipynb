{
  "cells": [
    {
      "cell_type": "markdown",
      "metadata": {},
      "source": [
        "---\n",
        "title: \"Matplotlib tutorial\"\n",
        "format:\n",
        "  html:\n",
        "    code-fold: true\n",
        "jupyter: python3\n",
        "---\n",
        "\n",
        "# Matplotlib tutorial\n"
      ]
    },
    {
      "cell_type": "code",
      "metadata": {},
      "source": [
        "from matplotlib import pyplot as plt\n",
        "import numpy as np"
      ],
      "execution_count": null,
      "outputs": []
    },
    {
      "cell_type": "markdown",
      "metadata": {},
      "source": [
        "## Creating (regularly spaced) subplots\n",
        "\n",
        "With `plt.subplots()` we can create subplots in a regular grid. \n",
        "The first argument is the number of rows, the second argument is the number of columns.\n",
        "Calling `plt.subplots()` without any arguments creates a single plot.\n",
        "This mean we can use the same syntax whether we create one or several plots!"
      ]
    },
    {
      "cell_type": "code",
      "metadata": {},
      "source": [
        "fig, ax = plt.subplots(1, 2)\n",
        "fig, ax = plt.subplots(2, 3)\n",
        "fig, ax = plt.subplots()"
      ],
      "execution_count": null,
      "outputs": []
    },
    {
      "cell_type": "markdown",
      "metadata": {},
      "source": [
        "## Matplotlib's object oriented syntax\n",
        "\n",
        "The `plt.subplots()` function returns two objects: a `Figure` and an `Axes` (or an array of `Axes` if multiple subplots are created).\n",
        "The `Figure` object is used to interact with the whole plot, for example when saving the plot as an image.\n",
        "The `Axes` object is used to interact with a specific subplot, for example when plotting data or adding axis labels.\n",
        "If you are used to using Matplotlib by calling its functions, for the most part you can just replace them with methods of the `Axes` object that have the same name.\n",
        "For example: instead of `plt.plot(x,y)`, you can call `ax.plot(x,y)` where ax is an instance of the `Axes` object."
      ]
    },
    {
      "cell_type": "code",
      "metadata": {},
      "source": [
        "fig, ax = plt.subplots()\n",
        "x = np.linspace(0, 2*np.pi, 400)\n",
        "y = np.sin(x**2)\n",
        "ax.plot(x,y)"
      ],
      "execution_count": null,
      "outputs": []
    },
    {
      "cell_type": "markdown",
      "metadata": {},
      "source": [
        "## Axis customization\n",
        "The `Axes` object has a very useful `.set()` method that allow us to set axis properties like labels and ranges in a single call.\n",
        "Lets use it on the example above to:\n",
        "- add axis labels\n",
        "- add a title\n",
        "- show only the positive half of the y-axis"
      ]
    },
    {
      "cell_type": "code",
      "metadata": {},
      "source": [
        "fig, ax = plt.subplots()\n",
        "x = np.linspace(0, 2*np.pi, 400)\n",
        "y = np.sin(x**2)\n",
        "ax.plot(x,y)\n",
        "ax.set(xlabel=\"Time [s]\", ylabel=\"Amplitude [a.u.]\", title='Chirp', ylim=(0,1));"
      ],
      "execution_count": null,
      "outputs": []
    },
    {
      "cell_type": "markdown",
      "metadata": {},
      "source": [
        "## Custom plotting functions\n",
        "Another advantage of using the object oriented sytnax is that we can divide the code that draws the plots from the code that creates the layout.\n",
        "By writing a plotting function that takes an `Axes` object as input and draws to it, we can use the same function to draw on multiple plots.\n",
        "For example, if we have a function for drawing a circle and one for drawing a square."
      ]
    },
    {
      "cell_type": "code",
      "metadata": {},
      "source": [
        "def plot_circle(ax):\n",
        "    theta = np.linspace(0, 2*np.pi, 100)  # 100 points around the circle\n",
        "    x, y = np.cos(theta), np.sin(theta)\n",
        "    ax.plot(x,y)\n",
        "\n",
        "def plot_square(ax):\n",
        "    x, y = [-1, 1, 1, -1, -1], [-1, -1, 1, 1, -1]\n",
        "    ax.plot(x,y)"
      ],
      "execution_count": null,
      "outputs": []
    },
    {
      "cell_type": "markdown",
      "metadata": {},
      "source": [
        "We can create our subplots and then pass the `Axes` objects to the functions so they can draw on them."
      ]
    },
    {
      "cell_type": "code",
      "metadata": {},
      "source": [
        "    fig, ax = plt.subplots(1, 2)\n",
        "    plot_circle(ax[0])\n",
        "    plot_square(ax[1])"
      ],
      "execution_count": null,
      "outputs": []
    },
    {
      "cell_type": "markdown",
      "metadata": {},
      "source": [
        "Or we could use the same functions to draw a different plot."
      ]
    },
    {
      "cell_type": "code",
      "metadata": {},
      "source": [
        "    fig, ax = plt.subplots(2, 3)\n",
        "    plot_circle(ax[0,0])\n",
        "    plot_circle(ax[1,1])\n",
        "    plot_circle(ax[0,2])\n",
        "    plot_square(ax[1,0])\n",
        "    plot_square(ax[0,1])\n",
        "    plot_square(ax[1,2])"
      ],
      "execution_count": null,
      "outputs": []
    },
    {
      "cell_type": "markdown",
      "metadata": {},
      "source": [
        "Writing your plotting routines as functions using this pattern is especially useful when collaborating because it will make combining individual plots into a multi-plot figure very easy.\n",
        "\n",
        "## Irregularly spaced plots\n",
        "With `plt.subplots()`, all plots have the same size.\n",
        "However, we may want to allocate more space for some plots than for others.\n",
        "A function that allows this is `plt.subplot_mosaic()`.\n",
        "This function takes as argument a list of lists.\n",
        "Each sub-list defined on row of the plot.\n",
        "The elements in the sub-lists are strings and we can extend a given subplot across multiple rows and colums by simply repeating it."
      ]
    },
    {
      "cell_type": "code",
      "metadata": {},
      "source": [
        "fig, ax = plt.subplot_mosaic(\n",
        "    [\n",
        "        ['a', 'a', 'b'],\n",
        "        ['c', 'd', 'b']\n",
        "    ]\n",
        ");"
      ],
      "execution_count": null,
      "outputs": []
    },
    {
      "cell_type": "markdown",
      "metadata": {},
      "source": [
        "`plt.subplot_mosaic` returns a dictionary of `Axes` objects.\n",
        "To access a given subplot, we have to use its name"
      ]
    },
    {
      "cell_type": "code",
      "metadata": {},
      "source": [
        "fig, ax = plt.subplot_mosaic(\n",
        "    [\n",
        "        ['a', 'a'],\n",
        "        ['b','b']\n",
        "    ]\n",
        ")\n",
        "ax['a'].plot([0,1], [0,1])\n",
        "ax['b'].plot([0,1], [1,0])"
      ],
      "execution_count": null,
      "outputs": []
    },
    {
      "cell_type": "markdown",
      "metadata": {},
      "source": [
        "## Freeform layout\n",
        "It is also possible to create subplots without any guidelines.\n",
        "By calling the `.add_axes()` method of the `Figure` object, we can manually determine the coordinates and size of a subplot.\n",
        "The first two arguments of `.add_axes()` are the x and y coordinate of the new subplot's bottom left corner, the third and fourth argument are the width and height of the figure.\n",
        "The method returns an `Axes` object that can be used to interact with the newly created axis"
      ]
    },
    {
      "cell_type": "code",
      "metadata": {},
      "source": [
        "fig, ax = plt.subplots()\n",
        "ax_new = fig.add_axes([0.5, 0.5, 0.25, 0.25])"
      ],
      "execution_count": null,
      "outputs": []
    },
    {
      "cell_type": "markdown",
      "metadata": {},
      "source": [
        "The coordinate system goes from 0 to 1: (0,0) is the bottom left corner, (1,1) is the top right corner and (0.5, 0.5 is the center).\n",
        "The `.add_axes` method can also be used to create a subplot outside of the current figure limits.\n",
        "This can be useful sometimes, for example when adding a colorbar to an existing figure."
      ]
    },
    {
      "cell_type": "code",
      "metadata": {},
      "source": [
        "fig, ax = plt.subplots()\n",
        "ax_new = fig.add_axes([1.01, 0.3, 0.05, 0.4])"
      ],
      "execution_count": null,
      "outputs": []
    },
    {
      "cell_type": "markdown",
      "metadata": {},
      "source": [
        "While manually setting the layout can be very helpful, it is usually time consuming since it involves a certain amount of trial an error.\n",
        "Thus, it is usually preferable to use `.subplots()` or `.subplot_mosaic()` and only resort to `.add_axes` in cases where those methods can not provide the necessary flexibility.\n",
        "\n",
        "## Subplot labeling\n",
        "\n",
        "In publications, figures must be labeled so they can be referenced in the text.\n",
        "To add text to an `Axes` we can use the `.text()` method.\n",
        "However, per default this method uses the coordinates of the data plotted to the axis.\n",
        "This means, we would have to figure out the correct coordiantes for each subplot individually.\n",
        "A convenient solution is the `.transAxes` transform that allows us to use the same normalized coordinate system as in the example above\n"
      ]
    },
    {
      "cell_type": "code",
      "metadata": {},
      "source": [
        "fig, ax = plt.subplots(3)\n",
        "labels = \"a\", \"b\", \"c\"\n",
        "for i in range(3):\n",
        "    ax[i].text(0.95, 0.85, labels[i], transform=ax[i].transAxes, weight=\"bold\")"
      ],
      "execution_count": null,
      "outputs": []
    }
  ],
  "metadata": {
    "kernelspec": {
      "name": "python3",
      "language": "python",
      "display_name": "Python 3 (ipykernel)",
      "path": "/home/obi/projects/Publication-Ready-Figures-With-Matplotlib/.venv/share/jupyter/kernels/python3"
    }
  },
  "nbformat": 4,
  "nbformat_minor": 4
}