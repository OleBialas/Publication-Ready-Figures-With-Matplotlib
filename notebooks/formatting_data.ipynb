{
  "cells": [
    {
      "cell_type": "markdown",
      "metadata": {},
      "source": [
        "# Formatting data\n",
        "\n",
        "The aim of this notebook is to download the data described in [this publication](https://www.nature.com/articles/s41586-020-03171-x) and store parts of it in an easily accessible format.\n",
        "For each recording session, there will be three output files:\n",
        "- `units.cvs`: Table listing all recorded units and a bunch of metrics\n",
        "- `stimuli.csv`: Table listing all occurrences of the selected stimuli for the session\n",
        "- `spike_times.npy`: The spike times for every unit recorded in that session\n",
        "- `mean_waveforms.npy`: Mean waveform of every unit recorded in that session\n"
      ]
    },
    {
      "cell_type": "code",
      "metadata": {},
      "source": [
        "from pathlib import Path\n",
        "from typing import List\n",
        "import pandas as pd\n",
        "import numpy as np\n",
        "from pynwb import NWBHDF5IO, NWBFile\n",
        "from allensdk.brain_observatory.ecephys.ecephys_project_cache import EcephysProjectCache"
      ],
      "execution_count": null,
      "outputs": []
    },
    {
      "cell_type": "markdown",
      "metadata": {},
      "source": [
        "## Set up parameters\n",
        "Select session and regions of interest"
      ]
    },
    {
      "cell_type": "code",
      "metadata": {},
      "source": [
        "root = Path('/home/obi/projects/Publication-Ready-Figures-With-Matplotlib')\n",
        "cache = EcephysProjectCache.from_warehouse(manifest=root/\"data\"/\"raw\"/\"manifest.json\")\n",
        "SESSION_TYPE=\"brain_observatory_1.1\"\n",
        "ROI = [\"VISpm\", \"VISrl\", \"VISam\"] # primary, rostrolateral and anteriormedial visual cortex\n",
        "STIMULI = [\"gabors\", \"flashes\", \"drift_gratings\", \"static_gratings\", \"natural_scenes\"]\n",
        "GENOTYPES = [\"wt/wt\"]"
      ],
      "execution_count": null,
      "outputs": []
    },
    {
      "cell_type": "markdown",
      "metadata": {},
      "source": [
        "## Filter Sessions\n",
        "Select the sessions with the given `GENOTYPES` and `SESSION_TYPE`"
      ]
    },
    {
      "cell_type": "code",
      "metadata": {},
      "source": [
        "sessions = cache.get_session_table()\n",
        "sessions = sessions[sessions.session_type==SESSION_TYPE]\n",
        "sessions = sessions[sessions.full_genotype.isin(GENOTYPES)]"
      ],
      "execution_count": null,
      "outputs": []
    },
    {
      "cell_type": "markdown",
      "metadata": {},
      "source": [
        "## Download data\n",
        "Download the data to the cache folder"
      ]
    },
    {
      "cell_type": "code",
      "metadata": {},
      "source": [
        "#| label: session-loop\n",
        "session_id = sessions.index[0]\n",
        "for session_id in sessions.index:\n",
        "    session = cache.get_session_data(session_id)"
      ],
      "execution_count": null,
      "outputs": []
    },
    {
      "cell_type": "markdown",
      "metadata": {},
      "source": [
        "## Filter units\n",
        "Select units located in ROI"
      ]
    },
    {
      "cell_type": "code",
      "metadata": {
        "ref.label": "subject-loop"
      },
      "source": [
        "    units = session.units\n",
        "    unit_in_ROI = []\n",
        "    for i in units.index:\n",
        "        structure = units.loc[i].ecephys_structure_acronym\n",
        "        if structure in ROI:\n",
        "            unit_in_ROI.append(True)\n",
        "        else:\n",
        "            unit_in_ROI.append(False)\n",
        "    units = units[unit_in_ROI]"
      ],
      "execution_count": null,
      "outputs": []
    },
    {
      "cell_type": "markdown",
      "metadata": {},
      "source": [
        "## Mean waveforms\n",
        "Get the mean waveforms for the selected unit.\n",
        "Because the mean waveforms are computed for every electrode, we only select the one with the largers peak-to-peak amplitude (should be from the electrode closest to the unit)"
      ]
    },
    {
      "cell_type": "code",
      "metadata": {
        "ref.label": "subject-loop"
      },
      "source": [
        "    mean_waveforms = session.mean_waveforms\n",
        "    mean_waveforms_out = {}\n",
        "    mean_waveforms_out[\"time\"] = mean_waveforms[units.index[0]].time.data\n",
        "    for i in units.index:\n",
        "        w = mean_waveforms[i].data\n",
        "        ptp = w.max(axis=1)-w.min(axis=1)\n",
        "        idx = np.argmax(ptp) # waveform with largest peak-to-peak ampitude\n",
        "        mean_waveforms_out[i] = w[idx, :]"
      ],
      "execution_count": null,
      "outputs": []
    },
    {
      "cell_type": "markdown",
      "metadata": {},
      "source": [
        "## Spike times\n",
        "Get spike times for the selected units"
      ]
    },
    {
      "cell_type": "code",
      "metadata": {
        "ref.label": "subject-loop"
      },
      "source": [
        "    spike_times = session.spike_times\n",
        "    spike_times_out = {}\n",
        "    for i in units.index:\n",
        "        spike_times_out[i] = spike_times[i]"
      ],
      "execution_count": null,
      "outputs": []
    },
    {
      "cell_type": "markdown",
      "metadata": {},
      "source": [
        "## Stimuli\n",
        "Load stimulus table and select the ones defined in `STIMULI`"
      ]
    },
    {
      "cell_type": "code",
      "metadata": {
        "ref.label": "subject-loop"
      },
      "source": [
        "    stimuli = session.get_stimulus_table()\n",
        "    stimuli = stimuli[stimuli.stimulus_name.isin(STIMULI)]"
      ],
      "execution_count": null,
      "outputs": []
    },
    {
      "cell_type": "markdown",
      "metadata": {},
      "source": [
        "## Write data\n",
        "Now we can create an output folder and store the data"
      ]
    },
    {
      "cell_type": "code",
      "metadata": {
        "ref.label": "subject-loop"
      },
      "source": [
        "    out_dir = root/\"data\"/f\"ses_{session_id}\"\n",
        "    if not out_dir.exists():\n",
        "        out_dir.mkdir()\n",
        "    units.to_csv(out_dir/f\"ses_{session_id}_units.csv\")\n",
        "    stimuli.to_csv(out_dir/f\"ses_{session_id}_stimuli.csv\")\n",
        "    np.save(out_dir/f\"ses_{session_id}_mean_waveforms.npy\", mean_waveforms_out, allow_pickle=True)\n",
        "    np.save(out_dir/f\"ses_{session_id}_spike_times.npy\", spike_times_out, allow_pickle=True)"
      ],
      "execution_count": null,
      "outputs": []
    }
  ],
  "metadata": {
    "kernelspec": {
      "name": "python3",
      "language": "python",
      "display_name": "Python 3 (ipykernel)",
      "path": "/home/obi/projects/Publication-Ready-Figures-With-Matplotlib/.venv/share/jupyter/kernels/python3"
    }
  },
  "nbformat": 4,
  "nbformat_minor": 4
}